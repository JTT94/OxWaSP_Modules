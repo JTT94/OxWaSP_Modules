{
 "cells": [
  {
   "cell_type": "code",
   "execution_count": 1,
   "metadata": {},
   "outputs": [],
   "source": [
    "import pulp"
   ]
  },
  {
   "cell_type": "code",
   "execution_count": 2,
   "metadata": {},
   "outputs": [],
   "source": [
    "import pandas as pd\n",
    "import numpy as np"
   ]
  },
  {
   "cell_type": "markdown",
   "metadata": {},
   "source": [
    "## Data processing"
   ]
  },
  {
   "cell_type": "code",
   "execution_count": 3,
   "metadata": {},
   "outputs": [],
   "source": [
    "#raw data\n",
    "choices = [['A', 1,2,3], ['B', 3,2,1]]"
   ]
  },
  {
   "cell_type": "code",
   "execution_count": 4,
   "metadata": {},
   "outputs": [],
   "source": [
    "df_preferences = pd.DataFrame.from_records(choices, \n",
    "                          columns=['Person']+[\"Option_{0}\".format(i) for i in range(1,len(choices[1]))])\n",
    "df_preferences = df_preferences.set_index('Person')"
   ]
  },
  {
   "cell_type": "code",
   "execution_count": 5,
   "metadata": {},
   "outputs": [],
   "source": [
    "mat_pref = df_preferences.values.tolist()"
   ]
  },
  {
   "cell_type": "code",
   "execution_count": 34,
   "metadata": {},
   "outputs": [
    {
     "data": {
      "text/plain": [
       "array([[1.00141761, 2.00702954, 3.00283049],\n",
       "       [3.00454745, 2.00948842, 1.00301565]])"
      ]
     },
     "execution_count": 34,
     "metadata": {},
     "output_type": "execute_result"
    }
   ],
   "source": [
    "#jiggle to randomly ensure no joint preferences\n",
    "mat_pref = mat_pref + np.random.random(np.shape(mat_pref))/100"
   ]
  },
  {
   "cell_type": "markdown",
   "metadata": {},
   "source": [
    "## Instantiate Model"
   ]
  },
  {
   "cell_type": "code",
   "execution_count": 6,
   "metadata": {},
   "outputs": [],
   "source": [
    "model = pulp.LpProblem(\"Selection maxi-minimising cost\", pulp.LpMaximize)"
   ]
  },
  {
   "cell_type": "markdown",
   "metadata": {},
   "source": [
    "## Set Objective"
   ]
  },
  {
   "cell_type": "code",
   "execution_count": 7,
   "metadata": {},
   "outputs": [],
   "source": [
    "aux_variable = pulp.LpVariable('Obj', cat = 'Continuous')\n",
    "model += aux_variable, 'Maximin'"
   ]
  },
  {
   "cell_type": "code",
   "execution_count": 8,
   "metadata": {},
   "outputs": [
    {
     "data": {
      "text/plain": [
       "Selection maxi-minimising cost:\n",
       "MAXIMIZE\n",
       "1*Obj + 0\n",
       "VARIABLES\n",
       "Obj free Continuous"
      ]
     },
     "execution_count": 8,
     "metadata": {},
     "output_type": "execute_result"
    }
   ],
   "source": [
    "model"
   ]
  },
  {
   "cell_type": "markdown",
   "metadata": {},
   "source": [
    "# Set free variable"
   ]
  },
  {
   "cell_type": "code",
   "execution_count": 9,
   "metadata": {},
   "outputs": [],
   "source": [
    "peeps = range(len(df_preferences.index))\n",
    "options = range(len(df_preferences.columns))"
   ]
  },
  {
   "cell_type": "code",
   "execution_count": 10,
   "metadata": {},
   "outputs": [],
   "source": [
    "# allocation matrix\n",
    "allocation = pulp.LpVariable.matrix('allocation', (peeps, options), cat='Binary')"
   ]
  },
  {
   "cell_type": "code",
   "execution_count": 11,
   "metadata": {},
   "outputs": [
    {
     "data": {
      "text/plain": [
       "[[allocation_0_0, allocation_0_1, allocation_0_2],\n",
       " [allocation_1_0, allocation_1_1, allocation_1_2]]"
      ]
     },
     "execution_count": 11,
     "metadata": {},
     "output_type": "execute_result"
    }
   ],
   "source": [
    "allocation"
   ]
  },
  {
   "cell_type": "code",
   "execution_count": 12,
   "metadata": {},
   "outputs": [
    {
     "data": {
      "text/plain": [
       "allocation_0_1"
      ]
     },
     "execution_count": 12,
     "metadata": {},
     "output_type": "execute_result"
    }
   ],
   "source": [
    "allocation[0][1]"
   ]
  },
  {
   "cell_type": "markdown",
   "metadata": {},
   "source": [
    "## Add constraints"
   ]
  },
  {
   "cell_type": "code",
   "execution_count": 13,
   "metadata": {},
   "outputs": [],
   "source": [
    "# Aux is minimum of indivdual costs\n",
    "for i in peeps:\n",
    "    model += aux_variable <= -pulp.lpDot(allocation[i], mat_pref[i])"
   ]
  },
  {
   "cell_type": "code",
   "execution_count": 14,
   "metadata": {},
   "outputs": [],
   "source": [
    "# Only one project\n",
    "for i in peeps:\n",
    "    model += pulp.lpSum(allocation[i]) == 1"
   ]
  },
  {
   "cell_type": "code",
   "execution_count": 15,
   "metadata": {},
   "outputs": [],
   "source": [
    "group_max = 2\n",
    "group_min = 0\n",
    "for j in options:\n",
    "    model += pulp.lpSum(allocation[i][j] for i in peeps) <= group_max\n",
    "    model += pulp.lpSum(allocation[i][j] for i in peeps) >= group_min"
   ]
  },
  {
   "cell_type": "code",
   "execution_count": 16,
   "metadata": {},
   "outputs": [
    {
     "data": {
      "text/plain": [
       "Selection maxi-minimising cost:\n",
       "MAXIMIZE\n",
       "1*Obj + 0\n",
       "SUBJECT TO\n",
       "_C1: Obj + allocation_0_0 + 2 allocation_0_1 + 3 allocation_0_2 <= 0\n",
       "\n",
       "_C2: Obj + 3 allocation_1_0 + 2 allocation_1_1 + allocation_1_2 <= 0\n",
       "\n",
       "_C3: allocation_0_0 + allocation_0_1 + allocation_0_2 = 1\n",
       "\n",
       "_C4: allocation_1_0 + allocation_1_1 + allocation_1_2 = 1\n",
       "\n",
       "_C5: allocation_0_0 + allocation_1_0 <= 2\n",
       "\n",
       "_C6: allocation_0_0 + allocation_1_0 >= 0\n",
       "\n",
       "_C7: allocation_0_1 + allocation_1_1 <= 2\n",
       "\n",
       "_C8: allocation_0_1 + allocation_1_1 >= 0\n",
       "\n",
       "_C9: allocation_0_2 + allocation_1_2 <= 2\n",
       "\n",
       "_C10: allocation_0_2 + allocation_1_2 >= 0\n",
       "\n",
       "VARIABLES\n",
       "Obj free Continuous\n",
       "0 <= allocation_0_0 <= 1 Integer\n",
       "0 <= allocation_0_1 <= 1 Integer\n",
       "0 <= allocation_0_2 <= 1 Integer\n",
       "0 <= allocation_1_0 <= 1 Integer\n",
       "0 <= allocation_1_1 <= 1 Integer\n",
       "0 <= allocation_1_2 <= 1 Integer"
      ]
     },
     "execution_count": 16,
     "metadata": {},
     "output_type": "execute_result"
    }
   ],
   "source": [
    "model"
   ]
  },
  {
   "cell_type": "code",
   "execution_count": 42,
   "metadata": {},
   "outputs": [
    {
     "data": {
      "text/plain": [
       "'Optimal'"
      ]
     },
     "execution_count": 42,
     "metadata": {},
     "output_type": "execute_result"
    }
   ],
   "source": [
    "model.solve()\n",
    "pulp.LpStatus[model.status]"
   ]
  },
  {
   "cell_type": "code",
   "execution_count": 52,
   "metadata": {},
   "outputs": [
    {
     "data": {
      "text/html": [
       "<div>\n",
       "<style scoped>\n",
       "    .dataframe tbody tr th:only-of-type {\n",
       "        vertical-align: middle;\n",
       "    }\n",
       "\n",
       "    .dataframe tbody tr th {\n",
       "        vertical-align: top;\n",
       "    }\n",
       "\n",
       "    .dataframe thead th {\n",
       "        text-align: right;\n",
       "    }\n",
       "</style>\n",
       "<table border=\"1\" class=\"dataframe\">\n",
       "  <thead>\n",
       "    <tr style=\"text-align: right;\">\n",
       "      <th></th>\n",
       "      <th>Option_1</th>\n",
       "      <th>Option_2</th>\n",
       "      <th>Option_3</th>\n",
       "    </tr>\n",
       "  </thead>\n",
       "  <tbody>\n",
       "    <tr>\n",
       "      <th>0</th>\n",
       "      <td>1.0</td>\n",
       "      <td>0.0</td>\n",
       "      <td>0.0</td>\n",
       "    </tr>\n",
       "    <tr>\n",
       "      <th>1</th>\n",
       "      <td>0.0</td>\n",
       "      <td>0.0</td>\n",
       "      <td>1.0</td>\n",
       "    </tr>\n",
       "  </tbody>\n",
       "</table>\n",
       "</div>"
      ],
      "text/plain": [
       "   Option_1  Option_2  Option_3\n",
       "0       1.0       0.0       0.0\n",
       "1       0.0       0.0       1.0"
      ]
     },
     "execution_count": 52,
     "metadata": {},
     "output_type": "execute_result"
    }
   ],
   "source": [
    "pd.DataFrame.from_records([[allocation[i][j].varValue for j in options] for i in peeps],\n",
    "                         columns=[\"Option_{0}\".format(i) for i in range(1,len(choices[1]))])"
   ]
  },
  {
   "cell_type": "code",
   "execution_count": null,
   "metadata": {},
   "outputs": [],
   "source": []
  }
 ],
 "metadata": {
  "kernelspec": {
   "display_name": "Python 3",
   "language": "python",
   "name": "python3"
  },
  "language_info": {
   "codemirror_mode": {
    "name": "ipython",
    "version": 3
   },
   "file_extension": ".py",
   "mimetype": "text/x-python",
   "name": "python",
   "nbconvert_exporter": "python",
   "pygments_lexer": "ipython3",
   "version": "3.6.7"
  }
 },
 "nbformat": 4,
 "nbformat_minor": 2
}
