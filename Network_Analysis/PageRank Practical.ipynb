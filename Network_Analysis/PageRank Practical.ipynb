{
 "cells": [
  {
   "cell_type": "markdown",
   "metadata": {},
   "source": [
    "# Pair Comparison Models: Another Practical Exercise"
   ]
  },
  {
   "cell_type": "markdown",
   "metadata": {},
   "source": [
    "## Bradley-Terry model and PageRank\n",
    "\n",
    "As used in the today’s first practical: The citations dataset in R package BradleyTerryScalable (a CRAN package published from a mini-project by an OxWaSP student, Ella Kaye) gives citation counts for a small network of statistics journals.\n",
    "\n",
    "In this exercise we establish the relationship between the Bradley-Terry model and a scaled version of (un-damped) PageRank.\n",
    "\n",
    "The scaling will convert the PageRank scores — i.e., the equilibrium vector of a Markov chain that moves from journal to journal by following cited references — into a vector that contains PageRank score per outgoing citation. (David Selby, a PhD student at Warwick, has invented the nice name “ScroogeFactor” for the resultant vector — because it is like PageRank (a.k.a. “EigenFactor” when applied to inter-journal citation data) but it explicitly rewards those journals that themselves make fewer citations.)\n",
    "\n",
    "We will see that the Scrooge vector is an estimator for the Bradley-Terry model — i.e., is an alternative to the MLE. With real data, the Scrooge vector will usually be close to the Bradley-Terry model MLE. And when the input matrix has exact Bradley-Terry structure, the ScroogeFactor delivers exactly the Bradley-Terry “ability” scores. (This is a kind of consistency, sometimes called Fisher consistency.)"
   ]
  },
  {
   "cell_type": "markdown",
   "metadata": {},
   "source": [
    "## Compute the MLE for the Bradley-Terry model\n",
    "\n",
    "The values of citations_mle $ pi are scaled (arbitrarily) to have mean 1. You should check for yourself how the estimated ability values computed here relate exactly (up to numerical rounding) to the estimated log-ability values that were found by using glm() in the previous practical."
   ]
  },
  {
   "cell_type": "code",
   "execution_count": 18,
   "metadata": {},
   "outputs": [
    {
     "name": "stderr",
     "output_type": "stream",
     "text": [
      "Installing package into ‘/homes/thornton/R/x86_64-pc-linux-gnu-library/3.5’\n",
      "(as ‘lib’ is unspecified)\n"
     ]
    }
   ],
   "source": [
    "install.packages('BradleyTerryScalable')"
   ]
  },
  {
   "cell_type": "code",
   "execution_count": 2,
   "metadata": {},
   "outputs": [],
   "source": [
    "library(BradleyTerryScalable) "
   ]
  },
  {
   "cell_type": "code",
   "execution_count": 9,
   "metadata": {},
   "outputs": [],
   "source": [
    "?citations"
   ]
  },
  {
   "cell_type": "code",
   "execution_count": 3,
   "metadata": {},
   "outputs": [
    {
     "data": {
      "text/html": [
       "<strong>$full_dataset</strong> = <dl class=dl-horizontal>\n",
       "\t<dt>JRSS-B</dt>\n",
       "\t\t<dd>1.75839650363164</dd>\n",
       "\t<dt>Biometrika</dt>\n",
       "\t\t<dd>1.34144779151003</dd>\n",
       "\t<dt>JASA</dt>\n",
       "\t\t<dd>0.829908045891818</dd>\n",
       "\t<dt>Comm Statist</dt>\n",
       "\t\t<dd>0.0702476589665163</dd>\n",
       "</dl>\n"
      ],
      "text/latex": [
       "\\textbf{\\$full\\_dataset} = \\begin{description*}\n",
       "\\item[JRSS-B] 1.75839650363164\n",
       "\\item[Biometrika] 1.34144779151003\n",
       "\\item[JASA] 0.829908045891818\n",
       "\\item[Comm Statist] 0.0702476589665163\n",
       "\\end{description*}\n"
      ],
      "text/markdown": [
       "**$full_dataset** = JRSS-B\n",
       ":   1.75839650363164Biometrika\n",
       ":   1.34144779151003JASA\n",
       ":   0.829908045891818Comm Statist\n",
       ":   0.0702476589665163\n",
       "\n"
      ],
      "text/plain": [
       "$full_dataset\n",
       "      JRSS-B   Biometrika         JASA Comm Statist \n",
       "  1.75839650   1.34144779   0.82990805   0.07024766 \n"
      ]
     },
     "metadata": {},
     "output_type": "display_data"
    }
   ],
   "source": [
    "citations_mle <- btfit(btdata(citations), a = 1)   ## compute the MLE\n",
    "citations_mle $ pi                                 ## extract the Bradley-Terry \"ability\" scores"
   ]
  },
  {
   "cell_type": "markdown",
   "metadata": {},
   "source": [
    "## Compute the scaled PageRank, or “Scrooge” vector\n",
    "\n",
    "Now let’s compare that maximum-likelihood fit of the Bradley-Terry model with the (suitably scaled) solution vector from the (un-damped) PageRank algorithm.\n",
    "\n",
    "We will make a function to compute the “ScroogeFactor” for any given input matrix:"
   ]
  },
  {
   "cell_type": "code",
   "execution_count": null,
   "metadata": {},
   "outputs": [],
   "source": []
  },
  {
   "cell_type": "code",
   "execution_count": 13,
   "metadata": {},
   "outputs": [],
   "source": [
    "scrooge <- function(m){\n",
    "  \n",
    "  ## Matrix m has its rows indexed by the \"cited\" items, \n",
    "  ## and columns by \"citing\" items\n",
    "  \n",
    "  ## First convert m into a transition matrix, with column sums 1\n",
    "  column_totals <- colSums(m)\n",
    "  m_transition <- m / matrix(column_totals, 4, 4, byrow = TRUE)\n",
    "  m_transition <- t(m_transition)\n",
    "  ## Now we get the eigenvector that corresponds to eigenvalue 1 \n",
    "  ## (the first eigenvalue, so we want the first column from the matrix of eigenvectors):\n",
    "  pagerank_vector <- (eigen(m_transition) $ vectors)[, 1]\n",
    "  \n",
    "  ## And then _scale_ the pagerank vector by the journals' out-citation counts, \n",
    "  ## and then (arbitrarily) re-normalize to have mean 1:\n",
    "  pagerank_scaled <- pagerank_vector / column_totals\n",
    "  pagerank_scaled <- pagerank_scaled / mean(pagerank_scaled)\n",
    "  return(pagerank_scaled)\n",
    "}"
   ]
  },
  {
   "cell_type": "code",
   "execution_count": 14,
   "metadata": {},
   "outputs": [
    {
     "data": {
      "text/html": [
       "<dl class=dl-horizontal>\n",
       "\t<dt>Biometrika</dt>\n",
       "\t\t<dd>0.856750587435467</dd>\n",
       "\t<dt>Comm Statist</dt>\n",
       "\t\t<dd>0.515806614806291</dd>\n",
       "\t<dt>JASA</dt>\n",
       "\t\t<dd>0.589643425178459</dd>\n",
       "\t<dt>JRSS-B</dt>\n",
       "\t\t<dd>2.03779937257978</dd>\n",
       "</dl>\n"
      ],
      "text/latex": [
       "\\begin{description*}\n",
       "\\item[Biometrika] 0.856750587435467\n",
       "\\item[Comm Statist] 0.515806614806291\n",
       "\\item[JASA] 0.589643425178459\n",
       "\\item[JRSS-B] 2.03779937257978\n",
       "\\end{description*}\n"
      ],
      "text/markdown": [
       "Biometrika\n",
       ":   0.856750587435467Comm Statist\n",
       ":   0.515806614806291JASA\n",
       ":   0.589643425178459JRSS-B\n",
       ":   2.03779937257978\n",
       "\n"
      ],
      "text/plain": [
       "  Biometrika Comm Statist         JASA       JRSS-B \n",
       "   0.8567506    0.5158066    0.5896434    2.0377994 "
      ]
     },
     "metadata": {},
     "output_type": "display_data"
    }
   ],
   "source": [
    "scrooge(citations)"
   ]
  },
  {
   "cell_type": "code",
   "execution_count": 15,
   "metadata": {},
   "outputs": [
    {
     "data": {
      "text/html": [
       "<dl class=dl-horizontal>\n",
       "\t<dt>JRSS-B</dt>\n",
       "\t\t<dd>2.03870974316219</dd>\n",
       "\t<dt>Biometrika</dt>\n",
       "\t\t<dd>0.85637668314196</dd>\n",
       "\t<dt>JASA</dt>\n",
       "\t\t<dd>0.589308451498219</dd>\n",
       "\t<dt>Comm Statist</dt>\n",
       "\t\t<dd>0.515605122197627</dd>\n",
       "</dl>\n"
      ],
      "text/latex": [
       "\\begin{description*}\n",
       "\\item[JRSS-B] 2.03870974316219\n",
       "\\item[Biometrika] 0.85637668314196\n",
       "\\item[JASA] 0.589308451498219\n",
       "\\item[Comm Statist] 0.515605122197627\n",
       "\\end{description*}\n"
      ],
      "text/markdown": [
       "JRSS-B\n",
       ":   2.03870974316219Biometrika\n",
       ":   0.85637668314196JASA\n",
       ":   0.589308451498219Comm Statist\n",
       ":   0.515605122197627\n",
       "\n"
      ],
      "text/plain": [
       "      JRSS-B   Biometrika         JASA Comm Statist \n",
       "   2.0387097    0.8563767    0.5893085    0.5156051 "
      ]
     },
     "metadata": {},
     "output_type": "display_data"
    }
   ],
   "source": [
    "citations_BT_fitted <- as.matrix(fitted(citations_mle))\n",
    "scrooge(citations_BT_fitted)"
   ]
  }
 ],
 "metadata": {
  "kernelspec": {
   "display_name": "R",
   "language": "R",
   "name": "ir"
  },
  "language_info": {
   "codemirror_mode": "r",
   "file_extension": ".r",
   "mimetype": "text/x-r-source",
   "name": "R",
   "pygments_lexer": "r",
   "version": "3.5.1"
  }
 },
 "nbformat": 4,
 "nbformat_minor": 2
}
