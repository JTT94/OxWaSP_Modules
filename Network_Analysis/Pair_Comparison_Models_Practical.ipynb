{
 "cells": [
  {
   "cell_type": "markdown",
   "metadata": {},
   "source": [
    "# Pair Comparison Models: A Practical Exercise"
   ]
  },
  {
   "cell_type": "markdown",
   "metadata": {},
   "source": [
    "## Bradley-Terry model and the log-linear model of quasi-symmetry"
   ]
  },
  {
   "cell_type": "code",
   "execution_count": 1,
   "metadata": {},
   "outputs": [
    {
     "name": "stderr",
     "output_type": "stream",
     "text": [
      "Installing package into ‘/homes/thornton/R/x86_64-pc-linux-gnu-library/3.5’\n",
      "(as ‘lib’ is unspecified)\n"
     ]
    }
   ],
   "source": [
    "install.packages('BradleyTerryScalable')"
   ]
  },
  {
   "cell_type": "code",
   "execution_count": 2,
   "metadata": {},
   "outputs": [
    {
     "name": "stderr",
     "output_type": "stream",
     "text": [
      "Loading required package: BradleyTerryScalable\n"
     ]
    }
   ],
   "source": [
    "require(BradleyTerryScalable)"
   ]
  },
  {
   "cell_type": "code",
   "execution_count": 28,
   "metadata": {},
   "outputs": [],
   "source": [
    "w <- as.vector(citations)\n",
    "totals <- as.vector(citations + t(citations)) \n",
    "cited <- factor(rep(rownames(citations), 4))\n",
    "citing <- factor(rep(colnames(citations), rep(4, 4)))"
   ]
  },
  {
   "cell_type": "markdown",
   "metadata": {},
   "source": [
    "For the binomial logit-linear model, we need to make the Bradley-Terry `design matrix`:"
   ]
  },
  {
   "cell_type": "code",
   "execution_count": 5,
   "metadata": {},
   "outputs": [],
   "source": [
    "X <- model.matrix(~ -1 + cited) - model.matrix(~ -1 + citing)\n",
    "colnames(X) <- colnames(citations)"
   ]
  },
  {
   "cell_type": "markdown",
   "metadata": {},
   "source": [
    "Now we can fit the Bradley-Terry model as a binomial logit model:"
   ]
  },
  {
   "cell_type": "code",
   "execution_count": 53,
   "metadata": {},
   "outputs": [],
   "source": [
    "?glm"
   ]
  },
  {
   "cell_type": "code",
   "execution_count": 21,
   "metadata": {},
   "outputs": [],
   "source": [
    "bt_logit <- glm(cbind(w, totals - w) ~ -1 + X, family = binomial)"
   ]
  },
  {
   "cell_type": "code",
   "execution_count": 22,
   "metadata": {},
   "outputs": [
    {
     "data": {
      "text/plain": [
       "\n",
       "Call:\n",
       "glm(formula = cbind(w, totals - w) ~ -1 + X, family = binomial)\n",
       "\n",
       "Deviance Residuals: \n",
       "    Min       1Q   Median       3Q      Max  \n",
       "-1.6201  -0.2816   0.0000   0.2816   1.6201  \n",
       "\n",
       "Coefficients: (1 not defined because of singularities)\n",
       "              Estimate Std. Error z value Pr(>|z|)    \n",
       "XBiometrika   -0.26895    0.05008   -5.37 7.87e-08 ***\n",
       "XComm Statist -3.21803    0.07941  -40.52  < 2e-16 ***\n",
       "XJASA         -0.74852    0.05158  -14.51  < 2e-16 ***\n",
       "XJRSS-B             NA         NA      NA       NA    \n",
       "---\n",
       "Signif. codes:  0 ‘***’ 0.001 ‘**’ 0.01 ‘*’ 0.05 ‘.’ 0.1 ‘ ’ 1\n",
       "\n",
       "(Dispersion parameter for binomial family taken to be 1)\n",
       "\n",
       "    Null deviance: 3850.4657  on 16  degrees of freedom\n",
       "Residual deviance:    8.5868  on 13  degrees of freedom\n",
       "AIC: 116.21\n",
       "\n",
       "Number of Fisher Scoring iterations: 4\n"
      ]
     },
     "metadata": {},
     "output_type": "display_data"
    }
   ],
   "source": [
    "summary(bt_logit)"
   ]
  },
  {
   "cell_type": "code",
   "execution_count": 61,
   "metadata": {},
   "outputs": [],
   "source": [
    "require(gnm)\n",
    "bt_loglin <- glm(w ~  Symm(cited, citing) + cited, family = poisson)"
   ]
  },
  {
   "cell_type": "code",
   "execution_count": 62,
   "metadata": {},
   "outputs": [
    {
     "data": {
      "text/plain": [
       "\n",
       "Call:\n",
       "glm(formula = w ~ Symm(cited, citing) + cited, family = poisson)\n",
       "\n",
       "Deviance Residuals: \n",
       "       1         2         3         4         5         6         7         8  \n",
       " 0.00000  -0.82716   0.40752  -0.13329   0.18483   0.00000   0.02593  -0.34205  \n",
       "       9        10        11        12        13        14        15        16  \n",
       "-0.32264  -0.08931   0.00000   0.44598   0.15202   1.58360  -0.65702   0.00000  \n",
       "\n",
       "Coefficients:\n",
       "                                             Estimate Std. Error z value\n",
       "(Intercept)                                   5.23644    0.07293  71.798\n",
       "Symm(cited, citing)JRSS-B:Biometrika          0.42043    0.09078   4.631\n",
       "Symm(cited, citing)JRSS-B:Comm Statist        0.40448    0.09355   4.324\n",
       "Symm(cited, citing)JRSS-B:JASA                0.52254    0.08949   5.839\n",
       "Symm(cited, citing)Biometrika:Biometrika      1.60340    0.10834  14.800\n",
       "Symm(cited, citing)Biometrika:Comm Statist    1.61871    0.10737  15.077\n",
       "Symm(cited, citing)Biometrika:JASA            1.25754    0.10396  12.096\n",
       "Symm(cited, citing)Comm Statist:Comm Statist  4.03367    0.14242  28.322\n",
       "Symm(cited, citing)Comm Statist:JASA          2.21190    0.10794  20.492\n",
       "Symm(cited, citing)JASA:JASA                  2.48936    0.10758  23.140\n",
       "citedBiometrika                              -0.26895    0.07083  -3.797\n",
       "citedComm Statist                            -3.21803    0.11230 -28.655\n",
       "citedJASA                                    -0.74852    0.07294 -10.262\n",
       "                                             Pr(>|z|)    \n",
       "(Intercept)                                   < 2e-16 ***\n",
       "Symm(cited, citing)JRSS-B:Biometrika         3.63e-06 ***\n",
       "Symm(cited, citing)JRSS-B:Comm Statist       1.53e-05 ***\n",
       "Symm(cited, citing)JRSS-B:JASA               5.26e-09 ***\n",
       "Symm(cited, citing)Biometrika:Biometrika      < 2e-16 ***\n",
       "Symm(cited, citing)Biometrika:Comm Statist    < 2e-16 ***\n",
       "Symm(cited, citing)Biometrika:JASA            < 2e-16 ***\n",
       "Symm(cited, citing)Comm Statist:Comm Statist  < 2e-16 ***\n",
       "Symm(cited, citing)Comm Statist:JASA          < 2e-16 ***\n",
       "Symm(cited, citing)JASA:JASA                  < 2e-16 ***\n",
       "citedBiometrika                              0.000146 ***\n",
       "citedComm Statist                             < 2e-16 ***\n",
       "citedJASA                                     < 2e-16 ***\n",
       "---\n",
       "Signif. codes:  0 ‘***’ 0.001 ‘**’ 0.01 ‘*’ 0.05 ‘.’ 0.1 ‘ ’ 1\n",
       "\n",
       "(Dispersion parameter for poisson family taken to be 1)\n",
       "\n",
       "    Null deviance: 3748.0412  on 15  degrees of freedom\n",
       "Residual deviance:    4.2934  on  3  degrees of freedom\n",
       "AIC: 147.79\n",
       "\n",
       "Number of Fisher Scoring iterations: 4\n"
      ]
     },
     "metadata": {},
     "output_type": "display_data"
    }
   ],
   "source": [
    "summary(bt_loglin)"
   ]
  },
  {
   "cell_type": "code",
   "execution_count": 63,
   "metadata": {},
   "outputs": [
    {
     "data": {
      "text/html": [
       "<dl class=dl-horizontal>\n",
       "\t<dt>(Intercept)</dt>\n",
       "\t\t<dd>5.23644196282995</dd>\n",
       "\t<dt>Symm(cited, citing)JRSS-B:Biometrika</dt>\n",
       "\t\t<dd>0.420431400372445</dd>\n",
       "\t<dt>Symm(cited, citing)JRSS-B:Comm Statist</dt>\n",
       "\t\t<dd>0.404477255377812</dd>\n",
       "\t<dt>Symm(cited, citing)JRSS-B:JASA</dt>\n",
       "\t\t<dd>0.522542463075288</dd>\n",
       "\t<dt>Symm(cited, citing)Biometrika:Biometrika</dt>\n",
       "\t\t<dd>1.6033950553291</dd>\n",
       "\t<dt>Symm(cited, citing)Biometrika:Comm Statist</dt>\n",
       "\t\t<dd>1.61870799657815</dd>\n",
       "\t<dt>Symm(cited, citing)Biometrika:JASA</dt>\n",
       "\t\t<dd>1.25753507691504</dd>\n",
       "\t<dt>Symm(cited, citing)Comm Statist:Comm Statist</dt>\n",
       "\t\t<dd>4.03367375875785</dd>\n",
       "\t<dt>Symm(cited, citing)Comm Statist:JASA</dt>\n",
       "\t\t<dd>2.21190340300592</dd>\n",
       "\t<dt>Symm(cited, citing)JASA:JASA</dt>\n",
       "\t\t<dd>2.48936320437226</dd>\n",
       "\t<dt>citedBiometrika</dt>\n",
       "\t\t<dd>-0.268954055819472</dd>\n",
       "\t<dt>citedComm Statist</dt>\n",
       "\t\t<dd>-3.21802655266338</dd>\n",
       "\t<dt>citedJASA</dt>\n",
       "\t\t<dd>-0.748523825571465</dd>\n",
       "</dl>\n"
      ],
      "text/latex": [
       "\\begin{description*}\n",
       "\\item[(Intercept)] 5.23644196282995\n",
       "\\item[Symm(cited, citing)JRSS-B:Biometrika] 0.420431400372445\n",
       "\\item[Symm(cited, citing)JRSS-B:Comm Statist] 0.404477255377812\n",
       "\\item[Symm(cited, citing)JRSS-B:JASA] 0.522542463075288\n",
       "\\item[Symm(cited, citing)Biometrika:Biometrika] 1.6033950553291\n",
       "\\item[Symm(cited, citing)Biometrika:Comm Statist] 1.61870799657815\n",
       "\\item[Symm(cited, citing)Biometrika:JASA] 1.25753507691504\n",
       "\\item[Symm(cited, citing)Comm Statist:Comm Statist] 4.03367375875785\n",
       "\\item[Symm(cited, citing)Comm Statist:JASA] 2.21190340300592\n",
       "\\item[Symm(cited, citing)JASA:JASA] 2.48936320437226\n",
       "\\item[citedBiometrika] -0.268954055819472\n",
       "\\item[citedComm Statist] -3.21802655266338\n",
       "\\item[citedJASA] -0.748523825571465\n",
       "\\end{description*}\n"
      ],
      "text/markdown": [
       "(Intercept)\n",
       ":   5.23644196282995Symm(cited, citing)JRSS-B:Biometrika\n",
       ":   0.420431400372445Symm(cited, citing)JRSS-B:Comm Statist\n",
       ":   0.404477255377812Symm(cited, citing)JRSS-B:JASA\n",
       ":   0.522542463075288Symm(cited, citing)Biometrika:Biometrika\n",
       ":   1.6033950553291Symm(cited, citing)Biometrika:Comm Statist\n",
       ":   1.61870799657815Symm(cited, citing)Biometrika:JASA\n",
       ":   1.25753507691504Symm(cited, citing)Comm Statist:Comm Statist\n",
       ":   4.03367375875785Symm(cited, citing)Comm Statist:JASA\n",
       ":   2.21190340300592Symm(cited, citing)JASA:JASA\n",
       ":   2.48936320437226citedBiometrika\n",
       ":   -0.268954055819472citedComm Statist\n",
       ":   -3.21802655266338citedJASA\n",
       ":   -0.748523825571465\n",
       "\n"
      ],
      "text/plain": [
       "                                 (Intercept) \n",
       "                                   5.2364420 \n",
       "        Symm(cited, citing)JRSS-B:Biometrika \n",
       "                                   0.4204314 \n",
       "      Symm(cited, citing)JRSS-B:Comm Statist \n",
       "                                   0.4044773 \n",
       "              Symm(cited, citing)JRSS-B:JASA \n",
       "                                   0.5225425 \n",
       "    Symm(cited, citing)Biometrika:Biometrika \n",
       "                                   1.6033951 \n",
       "  Symm(cited, citing)Biometrika:Comm Statist \n",
       "                                   1.6187080 \n",
       "          Symm(cited, citing)Biometrika:JASA \n",
       "                                   1.2575351 \n",
       "Symm(cited, citing)Comm Statist:Comm Statist \n",
       "                                   4.0336738 \n",
       "        Symm(cited, citing)Comm Statist:JASA \n",
       "                                   2.2119034 \n",
       "                Symm(cited, citing)JASA:JASA \n",
       "                                   2.4893632 \n",
       "                             citedBiometrika \n",
       "                                  -0.2689541 \n",
       "                           citedComm Statist \n",
       "                                  -3.2180266 \n",
       "                                   citedJASA \n",
       "                                  -0.7485238 "
      ]
     },
     "metadata": {},
     "output_type": "display_data"
    }
   ],
   "source": [
    "coef(bt_loglin)"
   ]
  },
  {
   "cell_type": "code",
   "execution_count": 64,
   "metadata": {},
   "outputs": [
    {
     "data": {
      "text/html": [
       "<dl class=dl-horizontal>\n",
       "\t<dt>XBiometrika</dt>\n",
       "\t\t<dd>-0.268954055819472</dd>\n",
       "\t<dt>XComm Statist</dt>\n",
       "\t\t<dd>-3.21802655266338</dd>\n",
       "\t<dt>XJASA</dt>\n",
       "\t\t<dd>-0.748523825571465</dd>\n",
       "\t<dt>XJRSS-B</dt>\n",
       "\t\t<dd>&lt;NA&gt;</dd>\n",
       "</dl>\n"
      ],
      "text/latex": [
       "\\begin{description*}\n",
       "\\item[XBiometrika] -0.268954055819472\n",
       "\\item[XComm Statist] -3.21802655266338\n",
       "\\item[XJASA] -0.748523825571465\n",
       "\\item[XJRSS-B] <NA>\n",
       "\\end{description*}\n"
      ],
      "text/markdown": [
       "XBiometrika\n",
       ":   -0.268954055819472XComm Statist\n",
       ":   -3.21802655266338XJASA\n",
       ":   -0.748523825571465XJRSS-B\n",
       ":   &lt;NA&gt;\n",
       "\n"
      ],
      "text/plain": [
       "  XBiometrika XComm Statist         XJASA       XJRSS-B \n",
       "   -0.2689541    -3.2180266    -0.7485238            NA "
      ]
     },
     "metadata": {},
     "output_type": "display_data"
    }
   ],
   "source": [
    "coef(bt_logit)"
   ]
  },
  {
   "cell_type": "code",
   "execution_count": 60,
   "metadata": {},
   "outputs": [
    {
     "data": {
      "text/html": [
       "<dl class=dl-horizontal>\n",
       "\t<dt>XBiometrika</dt>\n",
       "\t\t<dd>-0.268954055819472</dd>\n",
       "\t<dt>XComm Statist</dt>\n",
       "\t\t<dd>-3.21802655266338</dd>\n",
       "\t<dt>XJASA</dt>\n",
       "\t\t<dd>-0.748523825571465</dd>\n",
       "\t<dt>XJRSS-B</dt>\n",
       "\t\t<dd>&lt;NA&gt;</dd>\n",
       "</dl>\n"
      ],
      "text/latex": [
       "\\begin{description*}\n",
       "\\item[XBiometrika] -0.268954055819472\n",
       "\\item[XComm Statist] -3.21802655266338\n",
       "\\item[XJASA] -0.748523825571465\n",
       "\\item[XJRSS-B] <NA>\n",
       "\\end{description*}\n"
      ],
      "text/markdown": [
       "XBiometrika\n",
       ":   -0.268954055819472XComm Statist\n",
       ":   -3.21802655266338XJASA\n",
       ":   -0.748523825571465XJRSS-B\n",
       ":   &lt;NA&gt;\n",
       "\n"
      ],
      "text/plain": [
       "  XBiometrika XComm Statist         XJASA       XJRSS-B \n",
       "   -0.2689541    -3.2180266    -0.7485238            NA "
      ]
     },
     "metadata": {},
     "output_type": "display_data"
    }
   ],
   "source": [
    "citing <- relevel(citing, \"JRSS-B\")\n",
    "cited <- relevel(cited, \"JRSS-B\")\n",
    "bt_loglin <- update(bt_loglin, . ~ .)\n",
    "coef(bt_logit)"
   ]
  }
 ],
 "metadata": {
  "kernelspec": {
   "display_name": "R",
   "language": "R",
   "name": "ir"
  },
  "language_info": {
   "codemirror_mode": "r",
   "file_extension": ".r",
   "mimetype": "text/x-r-source",
   "name": "R",
   "pygments_lexer": "r",
   "version": "3.5.1"
  }
 },
 "nbformat": 4,
 "nbformat_minor": 2
}
